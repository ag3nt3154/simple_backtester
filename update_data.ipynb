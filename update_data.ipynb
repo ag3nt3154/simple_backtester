{
 "cells": [
  {
   "cell_type": "code",
   "execution_count": 1,
   "metadata": {},
   "outputs": [],
   "source": [
    "from utils import misc as misc\n",
    "import pandas as pd\n",
    "\n",
    "spy_constituents = pd.read_csv('datasets/SPY_constituents.csv')\n",
    "\n",
    "ticker_list = ['SPY', 'QQQ', 'DIA', 'UPRO', 'JEPI', 'SCHD', 'TMF', 'BND']\n",
    "for ticker in spy_constituents['Symbol']:\n",
    "    ticker_list.append(ticker)\n",
    "\n",
    "for ticker in ticker_list:\n",
    "    df = misc.get_price_data(ticker)\n",
    "    df.to_csv('datasets/daily_price_series/' + ticker + '.csv')\n",
    "\n"
   ]
  }
 ],
 "metadata": {
  "kernelspec": {
   "display_name": "Python 3",
   "language": "python",
   "name": "python3"
  },
  "language_info": {
   "codemirror_mode": {
    "name": "ipython",
    "version": 3
   },
   "file_extension": ".py",
   "mimetype": "text/x-python",
   "name": "python",
   "nbconvert_exporter": "python",
   "pygments_lexer": "ipython3",
   "version": "3.9.16"
  },
  "orig_nbformat": 4,
  "vscode": {
   "interpreter": {
    "hash": "63d416fa26d21159a6eb71389ee5685508ce23e26157debdd759e43076ad061e"
   }
  }
 },
 "nbformat": 4,
 "nbformat_minor": 2
}
